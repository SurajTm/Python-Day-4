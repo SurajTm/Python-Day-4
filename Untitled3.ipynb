{
  "nbformat": 4,
  "nbformat_minor": 0,
  "metadata": {
    "colab": {
      "name": "Untitled3.ipynb",
      "provenance": []
    },
    "kernelspec": {
      "name": "python3",
      "display_name": "Python 3"
    }
  },
  "cells": [
    {
      "cell_type": "code",
      "metadata": {
        "id": "KA5Bxz8rV7bh",
        "colab_type": "code",
        "colab": {
          "base_uri": "https://localhost:8080/",
          "height": 34
        },
        "outputId": "75671bf8-5ad7-42ca-e879-0d6fef66cbe1"
      },
      "source": [
        "for n in range(1042000,702648265):\n",
        "  l=len(str(n))\n",
        "  sum=0\n",
        "  temp=n\n",
        "  while temp>0:\n",
        "     d=temp%10\n",
        "     sum+=d**l  \n",
        "     temp=temp//10\n",
        "  if sum==n:\n",
        "    print(\"The first armstrong number is:\",n)\n",
        "    break"
      ],
      "execution_count": null,
      "outputs": [
        {
          "output_type": "stream",
          "text": [
            "The first armstrong number is: 1741725\n"
          ],
          "name": "stdout"
        }
      ]
    },
    {
      "cell_type": "code",
      "metadata": {
        "id": "6JCFVnr6RRHS",
        "colab_type": "code",
        "colab": {}
      },
      "source": [
        ""
      ],
      "execution_count": null,
      "outputs": []
    }
  ]
}